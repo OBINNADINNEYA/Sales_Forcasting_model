{
 "cells": [
  {
   "cell_type": "code",
   "execution_count": 1,
   "id": "5ea81664-122a-4de9-8aaf-1bd47194bb40",
   "metadata": {
    "tags": []
   },
   "outputs": [],
   "source": [
    "from pyspark.sql import SparkSession\n",
    "from pyspark.sql.types import StructType,StringType,StructField,IntegerType"
   ]
  },
  {
   "cell_type": "code",
   "execution_count": 2,
   "id": "c788286c-9a7a-4c15-8087-0427604d44cf",
   "metadata": {
    "tags": []
   },
   "outputs": [],
   "source": [
    "import warnings\n",
    "warnings.filterwarnings('ignore')"
   ]
  },
  {
   "cell_type": "code",
   "execution_count": 3,
   "id": "16b87772-87c5-4703-b277-a781d617179b",
   "metadata": {
    "tags": []
   },
   "outputs": [
    {
     "name": "stderr",
     "output_type": "stream",
     "text": [
      "23/09/11 19:37:03 WARN Utils: Your hostname, Obinnas-MacBook-Air.local resolves to a loopback address: 127.0.0.1; using 192.168.2.190 instead (on interface en0)\n",
      "23/09/11 19:37:03 WARN Utils: Set SPARK_LOCAL_IP if you need to bind to another address\n",
      "Setting default log level to \"WARN\".\n",
      "To adjust logging level use sc.setLogLevel(newLevel). For SparkR, use setLogLevel(newLevel).\n",
      "23/09/11 19:37:05 WARN NativeCodeLoader: Unable to load native-hadoop library for your platform... using builtin-java classes where applicable\n"
     ]
    }
   ],
   "source": [
    "spark = (SparkSession.builder.appName('SalesDataPrepandAnalytics').getOrCreate())"
   ]
  },
  {
   "cell_type": "markdown",
   "id": "3439f301-faec-43a6-a573-a1e68530a733",
   "metadata": {},
   "source": [
    "### DATA PREPARATION"
   ]
  },
  {
   "cell_type": "code",
   "execution_count": 4,
   "id": "c52e97e9-c2ee-405e-aaf5-7e890dba4a76",
   "metadata": {
    "tags": []
   },
   "outputs": [],
   "source": [
    "schema = StructType([\n",
    "    StructField(\"Order ID\", StringType(), True),\n",
    "    StructField(\"Product\", StringType(), True),\n",
    "    StructField(\"Quantity Ordered\", StringType(), True),\n",
    "    StructField(\"Price Each\", StringType(), True),\n",
    "    StructField(\"Order Date\", StringType(), True),\n",
    "    StructField(\"Purchase Address\", StringType(), True)\n",
    "])"
   ]
  },
  {
   "cell_type": "code",
   "execution_count": 5,
   "id": "24f5cd55-f3b3-4900-b0fc-4649d7697613",
   "metadata": {
    "tags": []
   },
   "outputs": [],
   "source": [
    "filepath = \"./testdata/salesdata\"\n",
    "\n",
    "sales_df = (spark.read.format(\"csv\")\n",
    "              .option('header',True)\n",
    "              .schema(schema)\n",
    "              .load(filepath))"
   ]
  },
  {
   "cell_type": "code",
   "execution_count": 6,
   "id": "6ca184f9-6fd2-4daa-92ee-466435926b23",
   "metadata": {
    "tags": []
   },
   "outputs": [
    {
     "name": "stderr",
     "output_type": "stream",
     "text": [
      "                                                                                \r"
     ]
    },
    {
     "name": "stdout",
     "output_type": "stream",
     "text": [
      "+--------+--------------------+----------------+----------+--------------+--------------------+\n",
      "|Order ID|             Product|Quantity Ordered|Price Each|    Order Date|    Purchase Address|\n",
      "+--------+--------------------+----------------+----------+--------------+--------------------+\n",
      "|  295665|  Macbook Pro Laptop|               1|      1700|12/30/19 00:01|136 Church St, Ne...|\n",
      "|  295666|  LG Washing Machine|               1|     600.0|12/29/19 07:03|562 2nd St, New Y...|\n",
      "|  295667|USB-C Charging Cable|               1|     11.95|12/12/19 18:21|277 Main St, New ...|\n",
      "|  295668|    27in FHD Monitor|               1|    149.99|12/22/19 15:13|410 6th St, San F...|\n",
      "|  295669|USB-C Charging Cable|               1|     11.95|12/18/19 12:38|43 Hill St, Atlan...|\n",
      "|  295670|AA Batteries (4-p...|               1|      3.84|12/31/19 22:58|200 Jefferson St,...|\n",
      "|  295671|USB-C Charging Cable|               1|     11.95|12/16/19 15:10|928 12th St, Port...|\n",
      "|  295672|USB-C Charging Cable|               2|     11.95|12/13/19 09:29|813 Hickory St, D...|\n",
      "|  295673|Bose SoundSport H...|               1|     99.99|12/15/19 23:26|718 Wilson St, Da...|\n",
      "|  295674|AAA Batteries (4-...|               4|      2.99|12/28/19 11:51|77 7th St, Dallas...|\n",
      "+--------+--------------------+----------------+----------+--------------+--------------------+\n",
      "only showing top 10 rows\n",
      "\n"
     ]
    }
   ],
   "source": [
    "sales_df.show(10)"
   ]
  },
  {
   "cell_type": "code",
   "execution_count": 7,
   "id": "1b6b719d-4c40-48ce-940f-09cd3ca9ebca",
   "metadata": {
    "tags": []
   },
   "outputs": [
    {
     "name": "stdout",
     "output_type": "stream",
     "text": [
      "root\n",
      " |-- Order ID: string (nullable = true)\n",
      " |-- Product: string (nullable = true)\n",
      " |-- Quantity Ordered: string (nullable = true)\n",
      " |-- Price Each: string (nullable = true)\n",
      " |-- Order Date: string (nullable = true)\n",
      " |-- Purchase Address: string (nullable = true)\n",
      "\n"
     ]
    }
   ],
   "source": [
    "sales_df.printSchema()"
   ]
  },
  {
   "cell_type": "markdown",
   "id": "543c3206-da65-409f-8a45-19954ef1cece",
   "metadata": {},
   "source": [
    "## Importing appropriate functions"
   ]
  },
  {
   "cell_type": "code",
   "execution_count": 8,
   "id": "b54f331c-732d-4a53-b17f-ec997ec0244f",
   "metadata": {
    "tags": []
   },
   "outputs": [],
   "source": [
    "from pyspark.sql.functions import col, expr\n",
    "from pyspark.sql.types import ArrayType, FloatType, DateType, BooleanType\n",
    "from pyspark.sql.functions import concat,concat_ws\n",
    "from pyspark.sql.functions import array_contains\n",
    "from pyspark.sql.functions import to_timestamp\n",
    "from pyspark.sql.functions import split\n",
    "from pyspark.sql.functions import year,month"
   ]
  },
  {
   "cell_type": "markdown",
   "id": "e98b8b72-b25f-401e-b006-cb23b539ae9c",
   "metadata": {},
   "source": [
    "## Removing bad data "
   ]
  },
  {
   "cell_type": "code",
   "execution_count": 9,
   "id": "cb5b145a-eb3d-4617-9ec3-7001e566c843",
   "metadata": {
    "tags": []
   },
   "outputs": [
    {
     "name": "stderr",
     "output_type": "stream",
     "text": [
      "                                                                                \r"
     ]
    },
    {
     "name": "stdout",
     "output_type": "stream",
     "text": [
      "+--------+-------+----------------+----------+----------+----------------+\n",
      "|Order ID|Product|Quantity Ordered|Price Each|Order Date|Purchase Address|\n",
      "+--------+-------+----------------+----------+----------+----------------+\n",
      "|Order ID|Product|Quantity Ordered|Price Each|Order Date|Purchase Address|\n",
      "|Order ID|Product|Quantity Ordered|Price Each|Order Date|Purchase Address|\n",
      "|Order ID|Product|Quantity Ordered|Price Each|Order Date|Purchase Address|\n",
      "|Order ID|Product|Quantity Ordered|Price Each|Order Date|Purchase Address|\n",
      "|Order ID|Product|Quantity Ordered|Price Each|Order Date|Purchase Address|\n",
      "|Order ID|Product|Quantity Ordered|Price Each|Order Date|Purchase Address|\n",
      "|Order ID|Product|Quantity Ordered|Price Each|Order Date|Purchase Address|\n",
      "|Order ID|Product|Quantity Ordered|Price Each|Order Date|Purchase Address|\n",
      "|Order ID|Product|Quantity Ordered|Price Each|Order Date|Purchase Address|\n",
      "|Order ID|Product|Quantity Ordered|Price Each|Order Date|Purchase Address|\n",
      "+--------+-------+----------------+----------+----------+----------------+\n",
      "only showing top 10 rows\n",
      "\n"
     ]
    }
   ],
   "source": [
    "sales_df.filter(col(\"Order ID\")==\"Order ID\").show(10)"
   ]
  },
  {
   "cell_type": "code",
   "execution_count": 10,
   "id": "ca459514-8604-4ced-8804-ecb9fbc7d64c",
   "metadata": {
    "tags": []
   },
   "outputs": [
    {
     "name": "stdout",
     "output_type": "stream",
     "text": [
      "+--------+--------------------------+----------------+----------+--------------+-----------------------------------------+\n",
      "|Order ID|Product                   |Quantity Ordered|Price Each|Order Date    |Purchase Address                         |\n",
      "+--------+--------------------------+----------------+----------+--------------+-----------------------------------------+\n",
      "|295665  |Macbook Pro Laptop        |1               |1700      |12/30/19 00:01|136 Church St, New York City, NY 10001   |\n",
      "|295666  |LG Washing Machine        |1               |600.0     |12/29/19 07:03|562 2nd St, New York City, NY 10001      |\n",
      "|295667  |USB-C Charging Cable      |1               |11.95     |12/12/19 18:21|277 Main St, New York City, NY 10001     |\n",
      "|295668  |27in FHD Monitor          |1               |149.99    |12/22/19 15:13|410 6th St, San Francisco, CA 94016      |\n",
      "|295669  |USB-C Charging Cable      |1               |11.95     |12/18/19 12:38|43 Hill St, Atlanta, GA 30301            |\n",
      "|295670  |AA Batteries (4-pack)     |1               |3.84      |12/31/19 22:58|200 Jefferson St, New York City, NY 10001|\n",
      "|295671  |USB-C Charging Cable      |1               |11.95     |12/16/19 15:10|928 12th St, Portland, OR 97035          |\n",
      "|295672  |USB-C Charging Cable      |2               |11.95     |12/13/19 09:29|813 Hickory St, Dallas, TX 75001         |\n",
      "|295673  |Bose SoundSport Headphones|1               |99.99     |12/15/19 23:26|718 Wilson St, Dallas, TX 75001          |\n",
      "|295674  |AAA Batteries (4-pack)    |4               |2.99      |12/28/19 11:51|77 7th St, Dallas, TX 75001              |\n",
      "+--------+--------------------------+----------------+----------+--------------+-----------------------------------------+\n",
      "only showing top 10 rows\n",
      "\n"
     ]
    },
    {
     "name": "stderr",
     "output_type": "stream",
     "text": [
      "                                                                                \r"
     ]
    }
   ],
   "source": [
    "#drop rows with order id value for order id \n",
    "cleaned_sales_df = sales_df.filter(col(\"Order ID\")!=\"Order ID\")\n",
    "cleaned_sales_df.show(10,truncate=False)"
   ]
  },
  {
   "cell_type": "code",
   "execution_count": 11,
   "id": "831a4bda-0d36-481f-8079-4d59c906c40b",
   "metadata": {
    "tags": []
   },
   "outputs": [
    {
     "name": "stdout",
     "output_type": "stream",
     "text": [
      "+--------+-------+----------------+----------+----------+----------------+\n",
      "|Order ID|Product|Quantity Ordered|Price Each|Order Date|Purchase Address|\n",
      "+--------+-------+----------------+----------+----------+----------------+\n",
      "+--------+-------+----------------+----------+----------+----------------+\n",
      "\n"
     ]
    }
   ],
   "source": [
    "#to check if we have dropped those values\n",
    "cleaned_sales_df.filter(col(\"Order ID\")==\"Order ID\").show(10)"
   ]
  },
  {
   "cell_type": "code",
   "execution_count": 12,
   "id": "5d65dad3-67ae-4564-a3e6-e12041b2b7da",
   "metadata": {
    "tags": []
   },
   "outputs": [
    {
     "name": "stdout",
     "output_type": "stream",
     "text": [
      "root\n",
      " |-- Order ID: string (nullable = true)\n",
      " |-- Product: string (nullable = true)\n",
      " |-- Quantity Ordered: string (nullable = true)\n",
      " |-- Price Each: string (nullable = true)\n",
      " |-- Order Date: string (nullable = true)\n",
      " |-- Purchase Address: string (nullable = true)\n",
      "\n"
     ]
    }
   ],
   "source": [
    "cleaned_sales_df.printSchema()"
   ]
  },
  {
   "cell_type": "code",
   "execution_count": 13,
   "id": "9d4c3638-e9dd-42ff-87fb-e8be7ebe6158",
   "metadata": {
    "tags": []
   },
   "outputs": [],
   "source": [
    "#different type of indexing \n",
    "cleaned_sales_df1 = (cleaned_sales_df\n",
    "                     .withColumn(\"City\", split(col('Purchase Address'), ',').getItem(1))\n",
    "                     .withColumn(\"state_street\", split(col('Purchase Address'), ',').getItem(2))\n",
    "                     .withColumn(\"State\", split(col('state_street'), \" \").getItem(1))\n",
    "                     .drop(\"state_street\")\n",
    "                    )"
   ]
  },
  {
   "cell_type": "code",
   "execution_count": 14,
   "id": "3a0486c5-f30e-4f6b-b1fa-6ea5c043889e",
   "metadata": {
    "tags": []
   },
   "outputs": [
    {
     "name": "stdout",
     "output_type": "stream",
     "text": [
      "+--------+--------------------+----------------+----------+--------------+--------------------+--------------+-----+\n",
      "|Order ID|             Product|Quantity Ordered|Price Each|    Order Date|    Purchase Address|          City|State|\n",
      "+--------+--------------------+----------------+----------+--------------+--------------------+--------------+-----+\n",
      "|  295665|  Macbook Pro Laptop|               1|      1700|12/30/19 00:01|136 Church St, Ne...| New York City|   NY|\n",
      "|  295666|  LG Washing Machine|               1|     600.0|12/29/19 07:03|562 2nd St, New Y...| New York City|   NY|\n",
      "|  295667|USB-C Charging Cable|               1|     11.95|12/12/19 18:21|277 Main St, New ...| New York City|   NY|\n",
      "|  295668|    27in FHD Monitor|               1|    149.99|12/22/19 15:13|410 6th St, San F...| San Francisco|   CA|\n",
      "|  295669|USB-C Charging Cable|               1|     11.95|12/18/19 12:38|43 Hill St, Atlan...|       Atlanta|   GA|\n",
      "|  295670|AA Batteries (4-p...|               1|      3.84|12/31/19 22:58|200 Jefferson St,...| New York City|   NY|\n",
      "|  295671|USB-C Charging Cable|               1|     11.95|12/16/19 15:10|928 12th St, Port...|      Portland|   OR|\n",
      "|  295672|USB-C Charging Cable|               2|     11.95|12/13/19 09:29|813 Hickory St, D...|        Dallas|   TX|\n",
      "|  295673|Bose SoundSport H...|               1|     99.99|12/15/19 23:26|718 Wilson St, Da...|        Dallas|   TX|\n",
      "|  295674|AAA Batteries (4-...|               4|      2.99|12/28/19 11:51|77 7th St, Dallas...|        Dallas|   TX|\n",
      "+--------+--------------------+----------------+----------+--------------+--------------------+--------------+-----+\n",
      "only showing top 10 rows\n",
      "\n"
     ]
    }
   ],
   "source": [
    "cleaned_sales_df1.show(10)"
   ]
  },
  {
   "cell_type": "code",
   "execution_count": 15,
   "id": "668bfefe-af5d-4783-9638-c7078dccb0a9",
   "metadata": {
    "tags": []
   },
   "outputs": [
    {
     "data": {
      "text/plain": [
       "['Order ID',\n",
       " 'Product',\n",
       " 'Quantity Ordered',\n",
       " 'Price Each',\n",
       " 'Order Date',\n",
       " 'Purchase Address',\n",
       " 'City',\n",
       " 'State']"
      ]
     },
     "execution_count": 15,
     "metadata": {},
     "output_type": "execute_result"
    }
   ],
   "source": [
    "cleaned_sales_df1.columns"
   ]
  },
  {
   "cell_type": "code",
   "execution_count": 16,
   "id": "3df0c6d8-cc84-4a56-bddf-9cf3846d02cc",
   "metadata": {
    "tags": []
   },
   "outputs": [],
   "source": [
    "#Rename columns and #Change datatypes\n",
    "\n",
    "cleaned_sales_df2 = (cleaned_sales_df1\n",
    "                     .withColumnRenamed('Order ID','OrderID')\n",
    "                     .withColumnRenamed('Quantity Ordered','Quantity',)\n",
    "                     .withColumnRenamed('Order Date','OrderDate',)\n",
    "                     .withColumnRenamed('Purchase Address','StoreAddress',)    \n",
    "                     .withColumnRenamed('Price Each','Price',)\n",
    "                     .withColumn('OrderID',col('OrderID').cast(IntegerType()))\n",
    "                     .withColumn('Quantity',col('Quantity').cast(IntegerType()))\n",
    "                     .withColumn('OrderDate',to_timestamp(col('OrderDate'),\"MM/dd/yy HH:mm\"))\n",
    "                     .withColumn('StoreAddress',col('StoreAddress').cast(StringType()))\n",
    "                     .withColumn('Product',col('Product').cast(StringType()))\n",
    "                     .withColumn('City',col('City').cast(StringType()))\n",
    "                     .withColumn('State',col('State').cast(StringType()))\n",
    "                     .withColumn('Price', col('Price').cast(FloatType()))\n",
    ")"
   ]
  },
  {
   "cell_type": "code",
   "execution_count": 17,
   "id": "6733a130-bd41-4955-9155-d7d6dcde77cd",
   "metadata": {
    "tags": []
   },
   "outputs": [
    {
     "name": "stdout",
     "output_type": "stream",
     "text": [
      "+-------+--------------------+--------+------+-------------------+--------------------+--------------+-----+\n",
      "|OrderID|             Product|Quantity| Price|          OrderDate|        StoreAddress|          City|State|\n",
      "+-------+--------------------+--------+------+-------------------+--------------------+--------------+-----+\n",
      "| 295665|  Macbook Pro Laptop|       1|1700.0|2019-12-30 00:01:00|136 Church St, Ne...| New York City|   NY|\n",
      "| 295666|  LG Washing Machine|       1| 600.0|2019-12-29 07:03:00|562 2nd St, New Y...| New York City|   NY|\n",
      "| 295667|USB-C Charging Cable|       1| 11.95|2019-12-12 18:21:00|277 Main St, New ...| New York City|   NY|\n",
      "| 295668|    27in FHD Monitor|       1|149.99|2019-12-22 15:13:00|410 6th St, San F...| San Francisco|   CA|\n",
      "| 295669|USB-C Charging Cable|       1| 11.95|2019-12-18 12:38:00|43 Hill St, Atlan...|       Atlanta|   GA|\n",
      "| 295670|AA Batteries (4-p...|       1|  3.84|2019-12-31 22:58:00|200 Jefferson St,...| New York City|   NY|\n",
      "| 295671|USB-C Charging Cable|       1| 11.95|2019-12-16 15:10:00|928 12th St, Port...|      Portland|   OR|\n",
      "| 295672|USB-C Charging Cable|       2| 11.95|2019-12-13 09:29:00|813 Hickory St, D...|        Dallas|   TX|\n",
      "| 295673|Bose SoundSport H...|       1| 99.99|2019-12-15 23:26:00|718 Wilson St, Da...|        Dallas|   TX|\n",
      "| 295674|AAA Batteries (4-...|       4|  2.99|2019-12-28 11:51:00|77 7th St, Dallas...|        Dallas|   TX|\n",
      "+-------+--------------------+--------+------+-------------------+--------------------+--------------+-----+\n",
      "only showing top 10 rows\n",
      "\n"
     ]
    },
    {
     "name": "stderr",
     "output_type": "stream",
     "text": [
      "                                                                                \r"
     ]
    }
   ],
   "source": [
    "cleaned_sales_df2.show(10)"
   ]
  },
  {
   "cell_type": "code",
   "execution_count": 18,
   "id": "3f166cb7-a78f-4d33-920f-c19951257656",
   "metadata": {
    "tags": []
   },
   "outputs": [
    {
     "name": "stdout",
     "output_type": "stream",
     "text": [
      "root\n",
      " |-- OrderID: integer (nullable = true)\n",
      " |-- Product: string (nullable = true)\n",
      " |-- Quantity: integer (nullable = true)\n",
      " |-- Price: float (nullable = true)\n",
      " |-- OrderDate: timestamp (nullable = true)\n",
      " |-- StoreAddress: string (nullable = true)\n",
      " |-- City: string (nullable = true)\n",
      " |-- State: string (nullable = true)\n",
      "\n"
     ]
    }
   ],
   "source": [
    "cleaned_sales_df2.printSchema()"
   ]
  },
  {
   "cell_type": "code",
   "execution_count": 19,
   "id": "dda94866-5285-440e-b1aa-70ac3e90d140",
   "metadata": {
    "tags": []
   },
   "outputs": [],
   "source": [
    "#adding new columns to df\n",
    "cleaned_sales_df3 = (cleaned_sales_df2\n",
    "                     .withColumn(\"Reportyear\", year(col('Orderdate')))\n",
    "                     .withColumn(\"Month\", month(col('OrderDate')))\n",
    ")"
   ]
  },
  {
   "cell_type": "code",
   "execution_count": 20,
   "id": "ed2bcb40-c3ab-409a-9233-da235016e744",
   "metadata": {
    "tags": []
   },
   "outputs": [
    {
     "name": "stdout",
     "output_type": "stream",
     "text": [
      "+-------+--------------------+--------+------+-------------------+--------------------+--------------+-----+----------+-----+\n",
      "|OrderID|             Product|Quantity| Price|          OrderDate|        StoreAddress|          City|State|Reportyear|Month|\n",
      "+-------+--------------------+--------+------+-------------------+--------------------+--------------+-----+----------+-----+\n",
      "| 295665|  Macbook Pro Laptop|       1|1700.0|2019-12-30 00:01:00|136 Church St, Ne...| New York City|   NY|      2019|   12|\n",
      "| 295666|  LG Washing Machine|       1| 600.0|2019-12-29 07:03:00|562 2nd St, New Y...| New York City|   NY|      2019|   12|\n",
      "| 295667|USB-C Charging Cable|       1| 11.95|2019-12-12 18:21:00|277 Main St, New ...| New York City|   NY|      2019|   12|\n",
      "| 295668|    27in FHD Monitor|       1|149.99|2019-12-22 15:13:00|410 6th St, San F...| San Francisco|   CA|      2019|   12|\n",
      "| 295669|USB-C Charging Cable|       1| 11.95|2019-12-18 12:38:00|43 Hill St, Atlan...|       Atlanta|   GA|      2019|   12|\n",
      "| 295670|AA Batteries (4-p...|       1|  3.84|2019-12-31 22:58:00|200 Jefferson St,...| New York City|   NY|      2019|   12|\n",
      "| 295671|USB-C Charging Cable|       1| 11.95|2019-12-16 15:10:00|928 12th St, Port...|      Portland|   OR|      2019|   12|\n",
      "| 295672|USB-C Charging Cable|       2| 11.95|2019-12-13 09:29:00|813 Hickory St, D...|        Dallas|   TX|      2019|   12|\n",
      "| 295673|Bose SoundSport H...|       1| 99.99|2019-12-15 23:26:00|718 Wilson St, Da...|        Dallas|   TX|      2019|   12|\n",
      "| 295674|AAA Batteries (4-...|       4|  2.99|2019-12-28 11:51:00|77 7th St, Dallas...|        Dallas|   TX|      2019|   12|\n",
      "+-------+--------------------+--------+------+-------------------+--------------------+--------------+-----+----------+-----+\n",
      "only showing top 10 rows\n",
      "\n"
     ]
    }
   ],
   "source": [
    "cleaned_sales_df3.show(10)"
   ]
  },
  {
   "cell_type": "code",
   "execution_count": 21,
   "id": "9a44259c-efb6-450e-8dd9-21ed6a09ed94",
   "metadata": {
    "tags": []
   },
   "outputs": [
    {
     "name": "stderr",
     "output_type": "stream",
     "text": [
      "                                                                                \r"
     ]
    },
    {
     "data": {
      "text/plain": [
       "34"
      ]
     },
     "execution_count": 21,
     "metadata": {},
     "output_type": "execute_result"
    }
   ],
   "source": [
    "cleaned_sales_df3.where(col(\"Reportyear\")==2020).count()"
   ]
  },
  {
   "cell_type": "code",
   "execution_count": 22,
   "id": "7ff87c0f-9ef9-47d8-a119-4158b39ee6b2",
   "metadata": {
    "tags": []
   },
   "outputs": [
    {
     "name": "stderr",
     "output_type": "stream",
     "text": [
      "                                                                                \r"
     ]
    },
    {
     "data": {
      "text/plain": [
       "185916"
      ]
     },
     "execution_count": 22,
     "metadata": {},
     "output_type": "execute_result"
    }
   ],
   "source": [
    "cleaned_sales_df3.where(col(\"Reportyear\")==2019).count()"
   ]
  },
  {
   "cell_type": "code",
   "execution_count": 23,
   "id": "0b7fae41-57e8-4074-b44c-1c5fe4c567bb",
   "metadata": {
    "tags": []
   },
   "outputs": [
    {
     "name": "stdout",
     "output_type": "stream",
     "text": [
      "+-------+--------------------+--------+------+-------------------+--------------------+--------------+-----+----------+-----+\n",
      "|OrderID|             Product|Quantity| Price|          OrderDate|        StoreAddress|          City|State|Reportyear|Month|\n",
      "+-------+--------------------+--------+------+-------------------+--------------------+--------------+-----+----------+-----+\n",
      "| 295665|  Macbook Pro Laptop|       1|1700.0|2019-12-30 00:01:00|136 Church St, Ne...| New York City|   NY|      2019|   12|\n",
      "| 295666|  LG Washing Machine|       1| 600.0|2019-12-29 07:03:00|562 2nd St, New Y...| New York City|   NY|      2019|   12|\n",
      "| 295667|USB-C Charging Cable|       1| 11.95|2019-12-12 18:21:00|277 Main St, New ...| New York City|   NY|      2019|   12|\n",
      "| 295668|    27in FHD Monitor|       1|149.99|2019-12-22 15:13:00|410 6th St, San F...| San Francisco|   CA|      2019|   12|\n",
      "| 295669|USB-C Charging Cable|       1| 11.95|2019-12-18 12:38:00|43 Hill St, Atlan...|       Atlanta|   GA|      2019|   12|\n",
      "| 295670|AA Batteries (4-p...|       1|  3.84|2019-12-31 22:58:00|200 Jefferson St,...| New York City|   NY|      2019|   12|\n",
      "| 295671|USB-C Charging Cable|       1| 11.95|2019-12-16 15:10:00|928 12th St, Port...|      Portland|   OR|      2019|   12|\n",
      "| 295672|USB-C Charging Cable|       2| 11.95|2019-12-13 09:29:00|813 Hickory St, D...|        Dallas|   TX|      2019|   12|\n",
      "| 295673|Bose SoundSport H...|       1| 99.99|2019-12-15 23:26:00|718 Wilson St, Da...|        Dallas|   TX|      2019|   12|\n",
      "| 295674|AAA Batteries (4-...|       4|  2.99|2019-12-28 11:51:00|77 7th St, Dallas...|        Dallas|   TX|      2019|   12|\n",
      "+-------+--------------------+--------+------+-------------------+--------------------+--------------+-----+----------+-----+\n",
      "only showing top 10 rows\n",
      "\n"
     ]
    },
    {
     "name": "stderr",
     "output_type": "stream",
     "text": [
      "                                                                                \r"
     ]
    }
   ],
   "source": [
    "#Complete clean up of removal of null values\n",
    "\n",
    "#drop rows with any null values \n",
    "cleaned_sales_df4 = cleaned_sales_df3.na.drop(\"any\")\n",
    "\n",
    "cleaned_sales_df4.show(10)"
   ]
  },
  {
   "cell_type": "code",
   "execution_count": 24,
   "id": "b5f7234d-df95-4ca1-a437-027488fb3fc4",
   "metadata": {
    "tags": []
   },
   "outputs": [
    {
     "data": {
      "text/plain": [
       "['OrderID',\n",
       " 'Product',\n",
       " 'Quantity',\n",
       " 'Price',\n",
       " 'OrderDate',\n",
       " 'StoreAddress',\n",
       " 'City',\n",
       " 'State',\n",
       " 'Reportyear',\n",
       " 'Month']"
      ]
     },
     "execution_count": 24,
     "metadata": {},
     "output_type": "execute_result"
    }
   ],
   "source": [
    "cleaned_sales_df4.columns"
   ]
  },
  {
   "cell_type": "code",
   "execution_count": 25,
   "id": "78aecae0-94ef-418b-989e-49a406f7ae87",
   "metadata": {
    "tags": []
   },
   "outputs": [],
   "source": [
    "#reordered the columns using select\n",
    "cleaned_sales_df5 = cleaned_sales_df4.select('OrderID','Product','Quantity',\n",
    "                                             'Price','OrderDate','StoreAddress','City','State','Reportyear','Month')"
   ]
  },
  {
   "cell_type": "code",
   "execution_count": 26,
   "id": "8a5a136d-4ee0-4497-8a43-a6abd5b96a49",
   "metadata": {
    "tags": []
   },
   "outputs": [
    {
     "name": "stdout",
     "output_type": "stream",
     "text": [
      "+-------+--------------------+--------+------+-------------------+--------------------+--------------+-----+----------+-----+\n",
      "|OrderID|             Product|Quantity| Price|          OrderDate|        StoreAddress|          City|State|Reportyear|Month|\n",
      "+-------+--------------------+--------+------+-------------------+--------------------+--------------+-----+----------+-----+\n",
      "| 295665|  Macbook Pro Laptop|       1|1700.0|2019-12-30 00:01:00|136 Church St, Ne...| New York City|   NY|      2019|   12|\n",
      "| 295666|  LG Washing Machine|       1| 600.0|2019-12-29 07:03:00|562 2nd St, New Y...| New York City|   NY|      2019|   12|\n",
      "| 295667|USB-C Charging Cable|       1| 11.95|2019-12-12 18:21:00|277 Main St, New ...| New York City|   NY|      2019|   12|\n",
      "| 295668|    27in FHD Monitor|       1|149.99|2019-12-22 15:13:00|410 6th St, San F...| San Francisco|   CA|      2019|   12|\n",
      "| 295669|USB-C Charging Cable|       1| 11.95|2019-12-18 12:38:00|43 Hill St, Atlan...|       Atlanta|   GA|      2019|   12|\n",
      "| 295670|AA Batteries (4-p...|       1|  3.84|2019-12-31 22:58:00|200 Jefferson St,...| New York City|   NY|      2019|   12|\n",
      "| 295671|USB-C Charging Cable|       1| 11.95|2019-12-16 15:10:00|928 12th St, Port...|      Portland|   OR|      2019|   12|\n",
      "| 295672|USB-C Charging Cable|       2| 11.95|2019-12-13 09:29:00|813 Hickory St, D...|        Dallas|   TX|      2019|   12|\n",
      "| 295673|Bose SoundSport H...|       1| 99.99|2019-12-15 23:26:00|718 Wilson St, Da...|        Dallas|   TX|      2019|   12|\n",
      "| 295674|AAA Batteries (4-...|       4|  2.99|2019-12-28 11:51:00|77 7th St, Dallas...|        Dallas|   TX|      2019|   12|\n",
      "+-------+--------------------+--------+------+-------------------+--------------------+--------------+-----+----------+-----+\n",
      "only showing top 10 rows\n",
      "\n"
     ]
    }
   ],
   "source": [
    "cleaned_sales_df5.show(10)"
   ]
  },
  {
   "cell_type": "code",
   "execution_count": 27,
   "id": "52f5f6fa-c642-435a-ae0c-4002d6ebe68c",
   "metadata": {
    "tags": []
   },
   "outputs": [
    {
     "name": "stderr",
     "output_type": "stream",
     "text": [
      "                                                                                \r"
     ]
    }
   ],
   "source": [
    "#LOAD INTO A PARQUET FILE\n",
    "#saving/writing the dfoutput as a parquet file that can be using on distributed sytems\n",
    "\n",
    "output_path = \"./data/output/sales directory\"\n",
    "\n",
    "#overwite allows us to overwrite to this file over and over again \n",
    "#Parttionby allows us to partion the data by columns\n",
    "\n",
    "cleaned_sales_df5.write.mode(\"overwrite\").partitionBy('Reportyear',\"Month\").parquet(output_path)\n",
    "\n"
   ]
  },
  {
   "cell_type": "code",
   "execution_count": 28,
   "id": "21bb6e97-a6fa-47d7-920d-b913baf3fd1e",
   "metadata": {
    "tags": []
   },
   "outputs": [
    {
     "name": "stderr",
     "output_type": "stream",
     "text": [
      "                                                                                \r"
     ]
    },
    {
     "data": {
      "text/plain": [
       "185950"
      ]
     },
     "execution_count": 28,
     "metadata": {},
     "output_type": "execute_result"
    }
   ],
   "source": [
    "cleaned_sales_df5.count()"
   ]
  },
  {
   "cell_type": "code",
   "execution_count": 29,
   "id": "1245e667-e052-4fe1-b232-7239b6435c54",
   "metadata": {
    "tags": []
   },
   "outputs": [
    {
     "name": "stderr",
     "output_type": "stream",
     "text": [
      "                                                                                \r"
     ]
    },
    {
     "data": {
      "text/plain": [
       "186850"
      ]
     },
     "execution_count": 29,
     "metadata": {},
     "output_type": "execute_result"
    }
   ],
   "source": [
    "sales_df.count()"
   ]
  },
  {
   "cell_type": "markdown",
   "id": "865fa569-aff3-401c-996d-17dd15d67e57",
   "metadata": {},
   "source": [
    "## THE END"
   ]
  },
  {
   "cell_type": "markdown",
   "id": "d7c7f463-deaf-41e3-b84e-4f9aea705fac",
   "metadata": {
    "tags": []
   },
   "source": [
    "## Challenge 3"
   ]
  },
  {
   "cell_type": "code",
   "execution_count": 30,
   "id": "06d5f239-2966-4ce3-872a-eddce5238b8c",
   "metadata": {
    "tags": []
   },
   "outputs": [],
   "source": [
    "from pyspark.sql.functions import min,max,sum, sum_distinct,avg\n",
    "from pyspark.sql.functions import round\n",
    "from pyspark.sql.functions import count,count_distinct\n",
    "from pyspark.sql.functions import concat, concat_ws, hour, minute, second\n",
    "from pyspark.sql.functions import collect_list,size"
   ]
  },
  {
   "cell_type": "code",
   "execution_count": 31,
   "id": "5914e2c0-b387-47b5-954f-06f61c43dcb4",
   "metadata": {
    "tags": []
   },
   "outputs": [],
   "source": [
    "#reading 2019 data into a df\n",
    "path = \"./data/output/sales directory\"\n",
    "partition = \"Reportyear=2019\"\n",
    "fullpath = f\"{path}/{partition}\"\n",
    "sales_2019_df = spark.read.parquet(fullpath)"
   ]
  },
  {
   "cell_type": "code",
   "execution_count": 32,
   "id": "0a802be9-0212-446a-96bf-557a2bf1ef48",
   "metadata": {
    "tags": []
   },
   "outputs": [
    {
     "name": "stderr",
     "output_type": "stream",
     "text": [
      "                                                                                \r"
     ]
    },
    {
     "name": "stdout",
     "output_type": "stream",
     "text": [
      "+-------+--------------------+--------+------+-------------------+--------------------+--------------+-----+-----+\n",
      "|OrderID|             Product|Quantity| Price|          OrderDate|        StoreAddress|          City|State|Month|\n",
      "+-------+--------------------+--------+------+-------------------+--------------------+--------------+-----+-----+\n",
      "| 295665|  Macbook Pro Laptop|       1|1700.0|2019-12-30 00:01:00|136 Church St, Ne...| New York City|   NY|   12|\n",
      "| 295666|  LG Washing Machine|       1| 600.0|2019-12-29 07:03:00|562 2nd St, New Y...| New York City|   NY|   12|\n",
      "| 295667|USB-C Charging Cable|       1| 11.95|2019-12-12 18:21:00|277 Main St, New ...| New York City|   NY|   12|\n",
      "| 295668|    27in FHD Monitor|       1|149.99|2019-12-22 15:13:00|410 6th St, San F...| San Francisco|   CA|   12|\n",
      "| 295669|USB-C Charging Cable|       1| 11.95|2019-12-18 12:38:00|43 Hill St, Atlan...|       Atlanta|   GA|   12|\n",
      "| 295670|AA Batteries (4-p...|       1|  3.84|2019-12-31 22:58:00|200 Jefferson St,...| New York City|   NY|   12|\n",
      "| 295671|USB-C Charging Cable|       1| 11.95|2019-12-16 15:10:00|928 12th St, Port...|      Portland|   OR|   12|\n",
      "| 295672|USB-C Charging Cable|       2| 11.95|2019-12-13 09:29:00|813 Hickory St, D...|        Dallas|   TX|   12|\n",
      "| 295673|Bose SoundSport H...|       1| 99.99|2019-12-15 23:26:00|718 Wilson St, Da...|        Dallas|   TX|   12|\n",
      "| 295674|AAA Batteries (4-...|       4|  2.99|2019-12-28 11:51:00|77 7th St, Dallas...|        Dallas|   TX|   12|\n",
      "+-------+--------------------+--------+------+-------------------+--------------------+--------------+-----+-----+\n",
      "only showing top 10 rows\n",
      "\n"
     ]
    }
   ],
   "source": [
    "sales_2019_df.show(10)"
   ]
  },
  {
   "cell_type": "code",
   "execution_count": 33,
   "id": "087d3186-dc50-4ac8-8352-9aaa9367d020",
   "metadata": {
    "tags": []
   },
   "outputs": [
    {
     "name": "stdout",
     "output_type": "stream",
     "text": [
      "+-------+--------------------+--------+------+-------------------+--------------------+--------------+-----+-----+-------------+\n",
      "|OrderID|             Product|Quantity| Price|          OrderDate|        StoreAddress|          City|State|Month|total_revenue|\n",
      "+-------+--------------------+--------+------+-------------------+--------------------+--------------+-----+-----+-------------+\n",
      "| 295665|  Macbook Pro Laptop|       1|1700.0|2019-12-30 00:01:00|136 Church St, Ne...| New York City|   NY|   12|       1700.0|\n",
      "| 295666|  LG Washing Machine|       1| 600.0|2019-12-29 07:03:00|562 2nd St, New Y...| New York City|   NY|   12|        600.0|\n",
      "| 295667|USB-C Charging Cable|       1| 11.95|2019-12-12 18:21:00|277 Main St, New ...| New York City|   NY|   12|        11.95|\n",
      "| 295668|    27in FHD Monitor|       1|149.99|2019-12-22 15:13:00|410 6th St, San F...| San Francisco|   CA|   12|       149.99|\n",
      "| 295669|USB-C Charging Cable|       1| 11.95|2019-12-18 12:38:00|43 Hill St, Atlan...|       Atlanta|   GA|   12|        11.95|\n",
      "| 295670|AA Batteries (4-p...|       1|  3.84|2019-12-31 22:58:00|200 Jefferson St,...| New York City|   NY|   12|         3.84|\n",
      "| 295671|USB-C Charging Cable|       1| 11.95|2019-12-16 15:10:00|928 12th St, Port...|      Portland|   OR|   12|        11.95|\n",
      "| 295672|USB-C Charging Cable|       2| 11.95|2019-12-13 09:29:00|813 Hickory St, D...|        Dallas|   TX|   12|         23.9|\n",
      "| 295673|Bose SoundSport H...|       1| 99.99|2019-12-15 23:26:00|718 Wilson St, Da...|        Dallas|   TX|   12|        99.99|\n",
      "| 295674|AAA Batteries (4-...|       4|  2.99|2019-12-28 11:51:00|77 7th St, Dallas...|        Dallas|   TX|   12|        11.96|\n",
      "+-------+--------------------+--------+------+-------------------+--------------------+--------------+-----+-----+-------------+\n",
      "only showing top 10 rows\n",
      "\n"
     ]
    }
   ],
   "source": [
    "sales_2019_df2 = (sales_2019_df.withColumn(\"total_revenue\", expr(\"Quantity*Price\"))\n",
    "                              .withColumn(\"total_revenue\",col('total_revenue').cast(FloatType())))\n",
    "sales_2019_df2.show(10)"
   ]
  },
  {
   "cell_type": "code",
   "execution_count": 34,
   "id": "33fae003-f70b-44da-9cc0-53e211f1610d",
   "metadata": {
    "tags": []
   },
   "outputs": [
    {
     "name": "stdout",
     "output_type": "stream",
     "text": [
      "root\n",
      " |-- OrderID: integer (nullable = true)\n",
      " |-- Product: string (nullable = true)\n",
      " |-- Quantity: integer (nullable = true)\n",
      " |-- Price: float (nullable = true)\n",
      " |-- OrderDate: timestamp (nullable = true)\n",
      " |-- StoreAddress: string (nullable = true)\n",
      " |-- City: string (nullable = true)\n",
      " |-- State: string (nullable = true)\n",
      " |-- Month: integer (nullable = true)\n",
      " |-- total_revenue: float (nullable = true)\n",
      "\n"
     ]
    }
   ],
   "source": [
    "sales_2019_df2.printSchema()"
   ]
  },
  {
   "cell_type": "markdown",
   "id": "ee823439-5b67-4653-adc6-912236d6e16c",
   "metadata": {},
   "source": [
    "## Best month for Sales in 2019"
   ]
  },
  {
   "cell_type": "code",
   "execution_count": 35,
   "id": "7ed7f0b6-eaf2-4543-9b57-3b955e0fdf59",
   "metadata": {
    "tags": []
   },
   "outputs": [],
   "source": [
    "sum_total_rev_month = (sales_2019_df2.groupBy(\"Month\")\n",
    "               .agg(sum(\"total_revenue\").alias(\"sum_total_revenue\"))\n",
    "               .withColumn(\"sum_total_revenue\",round(col(\"sum_total_revenue\"),2))\n",
    "               .orderBy(\"sum_total_revenue\", ascending = False))"
   ]
  },
  {
   "cell_type": "code",
   "execution_count": 36,
   "id": "96522995-1d6b-4b78-b0c9-4e7c01c09e81",
   "metadata": {
    "tags": []
   },
   "outputs": [
    {
     "name": "stderr",
     "output_type": "stream",
     "text": [
      "[Stage 24:=======>                                                  (1 + 7) / 8]\r"
     ]
    },
    {
     "name": "stdout",
     "output_type": "stream",
     "text": [
      "+-----+-----------------+\n",
      "|Month|sum_total_revenue|\n",
      "+-----+-----------------+\n",
      "|   12|       4613443.32|\n",
      "|   10|       3736726.86|\n",
      "|    4|       3390670.22|\n",
      "|   11|       3199603.18|\n",
      "|    5|       3152606.73|\n",
      "|    3|       2807100.37|\n",
      "|    7|       2647775.75|\n",
      "|    6|       2577802.25|\n",
      "|    8|       2244467.87|\n",
      "|    2|       2202022.41|\n",
      "|    9|       2097560.12|\n",
      "|    1|       1813586.43|\n",
      "+-----+-----------------+\n",
      "\n"
     ]
    },
    {
     "name": "stderr",
     "output_type": "stream",
     "text": [
      "                                                                                \r"
     ]
    }
   ],
   "source": [
    "sum_total_rev_month.show()"
   ]
  },
  {
   "cell_type": "code",
   "execution_count": 37,
   "id": "ddc166fe-56ba-49b6-91cf-39d1cd308431",
   "metadata": {
    "tags": []
   },
   "outputs": [],
   "source": [
    "import seaborn as sns\n",
    "import pandas as pd\n",
    "import matplotlib.pyplot as plt"
   ]
  },
  {
   "cell_type": "code",
   "execution_count": 38,
   "id": "60840b94-0b98-4314-9da2-b74e5d258770",
   "metadata": {
    "tags": []
   },
   "outputs": [],
   "source": [
    "%matplotlib inline"
   ]
  },
  {
   "cell_type": "code",
   "execution_count": 39,
   "id": "d86f6883-01c2-4336-bb62-68f688623c3c",
   "metadata": {
    "tags": []
   },
   "outputs": [
    {
     "name": "stderr",
     "output_type": "stream",
     "text": [
      "                                                                                \r"
     ]
    },
    {
     "data": {
      "image/png": "[encoded data removed]",
      "text/plain": [
       "<Figure size 1000x600 with 1 Axes>"
      ]
     },
     "metadata": {},
     "output_type": "display_data"
    }
   ],
   "source": [
    "sum_total_rev_month_pdf = sum_total_rev_month.toPandas()\n",
    "sns.set_style('darkgrid')\n",
    "plt.figure(figsize=(10,6))\n",
    "sns.barplot(x=sum_total_rev_month_pdf.Month, y = sum_total_rev_month_pdf.sum_total_revenue)\n",
    "plt.title(\"Total Revenue per Month\")\n",
    "plt.xticks(range(1,13))\n",
    "plt.show()"
   ]
  },
  {
   "cell_type": "markdown",
   "id": "fb49bb83-a850-4549-9146-961bde398aaa",
   "metadata": {},
   "source": [
    "### Best month is december"
   ]
  },
  {
   "cell_type": "code",
   "execution_count": 40,
   "id": "35d0e2ce-9130-409f-8f8b-e251eef32be9",
   "metadata": {
    "tags": []
   },
   "outputs": [
    {
     "name": "stdout",
     "output_type": "stream",
     "text": [
      "+-------+--------------------+--------+------+-------------------+--------------------+--------------+-----+-----+-------------+\n",
      "|OrderID|             Product|Quantity| Price|          OrderDate|        StoreAddress|          City|State|Month|total_revenue|\n",
      "+-------+--------------------+--------+------+-------------------+--------------------+--------------+-----+-----+-------------+\n",
      "| 295665|  Macbook Pro Laptop|       1|1700.0|2019-12-30 00:01:00|136 Church St, Ne...| New York City|   NY|   12|       1700.0|\n",
      "| 295666|  LG Washing Machine|       1| 600.0|2019-12-29 07:03:00|562 2nd St, New Y...| New York City|   NY|   12|        600.0|\n",
      "| 295667|USB-C Charging Cable|       1| 11.95|2019-12-12 18:21:00|277 Main St, New ...| New York City|   NY|   12|        11.95|\n",
      "| 295668|    27in FHD Monitor|       1|149.99|2019-12-22 15:13:00|410 6th St, San F...| San Francisco|   CA|   12|       149.99|\n",
      "| 295669|USB-C Charging Cable|       1| 11.95|2019-12-18 12:38:00|43 Hill St, Atlan...|       Atlanta|   GA|   12|        11.95|\n",
      "| 295670|AA Batteries (4-p...|       1|  3.84|2019-12-31 22:58:00|200 Jefferson St,...| New York City|   NY|   12|         3.84|\n",
      "| 295671|USB-C Charging Cable|       1| 11.95|2019-12-16 15:10:00|928 12th St, Port...|      Portland|   OR|   12|        11.95|\n",
      "| 295672|USB-C Charging Cable|       2| 11.95|2019-12-13 09:29:00|813 Hickory St, D...|        Dallas|   TX|   12|         23.9|\n",
      "| 295673|Bose SoundSport H...|       1| 99.99|2019-12-15 23:26:00|718 Wilson St, Da...|        Dallas|   TX|   12|        99.99|\n",
      "| 295674|AAA Batteries (4-...|       4|  2.99|2019-12-28 11:51:00|77 7th St, Dallas...|        Dallas|   TX|   12|        11.96|\n",
      "+-------+--------------------+--------+------+-------------------+--------------------+--------------+-----+-----+-------------+\n",
      "only showing top 10 rows\n",
      "\n"
     ]
    }
   ],
   "source": [
    "sales_2019_df2.show(10)"
   ]
  },
  {
   "cell_type": "markdown",
   "id": "ed10aee1-ffe1-4110-b872-d687efb04b2f",
   "metadata": {},
   "source": [
    "## City Sold Most Product in terms of Quantity"
   ]
  },
  {
   "cell_type": "code",
   "execution_count": 41,
   "id": "acd4a13d-ec76-4245-b648-78929852c515",
   "metadata": {
    "tags": []
   },
   "outputs": [],
   "source": [
    "city_most_products = (sales_2019_df2.groupBy(\"City\")\n",
    "               .agg(count(\"Quantity\").alias(\"Quantity_sum\"))\n",
    "               .orderBy(\"Quantity_sum\", ascending = False))"
   ]
  },
  {
   "cell_type": "code",
   "execution_count": 42,
   "id": "1d0c24eb-f69f-434b-bae5-33042200c0c4",
   "metadata": {
    "tags": []
   },
   "outputs": [
    {
     "name": "stderr",
     "output_type": "stream",
     "text": [
      "[Stage 36:=====================>                                    (3 + 5) / 8]\r"
     ]
    },
    {
     "name": "stdout",
     "output_type": "stream",
     "text": [
      "+--------------+------------+\n",
      "|          City|Quantity_sum|\n",
      "+--------------+------------+\n",
      "| San Francisco|       44720|\n",
      "|   Los Angeles|       29604|\n",
      "| New York City|       24866|\n",
      "|        Boston|       19930|\n",
      "|       Atlanta|       14881|\n",
      "|        Dallas|       14818|\n",
      "|       Seattle|       14731|\n",
      "|      Portland|       12463|\n",
      "|        Austin|        9903|\n",
      "+--------------+------------+\n",
      "\n"
     ]
    },
    {
     "name": "stderr",
     "output_type": "stream",
     "text": [
      "                                                                                \r"
     ]
    }
   ],
   "source": [
    "city_most_products.show()"
   ]
  },
  {
   "cell_type": "code",
   "execution_count": 43,
   "id": "ca5003de-8dd2-4fef-ba34-1a81ef920420",
   "metadata": {
    "tags": []
   },
   "outputs": [
    {
     "data": {
      "image/png": "[encoded data removed]",
      "text/plain": [
       "<Figure size 1000x600 with 1 Axes>"
      ]
     },
     "metadata": {},
     "output_type": "display_data"
    }
   ],
   "source": [
    "city_most_products_pdf = city_most_products.toPandas()\n",
    "sns.set_style('darkgrid')\n",
    "plt.figure(figsize=(10,6))\n",
    "sns.barplot(y=city_most_products_pdf.City, x= city_most_products_pdf.Quantity_sum)\n",
    "plt.xticks(rotation=90)\n",
    "plt.title(\"Total Products Per City\")\n",
    "plt.show()"
   ]
  },
  {
   "cell_type": "markdown",
   "id": "4c7afbd8-4559-4317-abb7-743934ead6d5",
   "metadata": {},
   "source": [
    "### City with highest number of products sold is san francisco"
   ]
  },
  {
   "cell_type": "markdown",
   "id": "673396ec-54ab-4264-ad9f-6d54682d2200",
   "metadata": {},
   "source": [
    "## Question 3\n",
    "\n",
    "- What time should we display advertisements to maximize the likelihood of customers buying products?"
   ]
  },
  {
   "cell_type": "code",
   "execution_count": 44,
   "id": "e457bfe0-6164-4479-a0a7-798b3f282bf2",
   "metadata": {},
   "outputs": [],
   "source": [
    "#remove duplicate order ID's so we get a bette idea of how many orders where made per hour"
   ]
  },
  {
   "cell_type": "code",
   "execution_count": 45,
   "id": "a37d0189-38f6-414f-8679-353140dbf7bf",
   "metadata": {
    "tags": []
   },
   "outputs": [],
   "source": [
    "time_df = (sales_2019_df2.select(\"OrderID\", hour(col(\"OrderDate\")).alias(\"hour\"))\n",
    "                        .distinct().groupBy(\"hour\")\n",
    "                        .agg(count(\"hour\").alias(\"TotalHours\"))\n",
    "                        .orderBy(\"TotalHours\", ascending=False))"
   ]
  },
  {
   "cell_type": "code",
   "execution_count": 46,
   "id": "4420225d-8608-4a42-ae58-cd613370b202",
   "metadata": {
    "tags": []
   },
   "outputs": [
    {
     "name": "stderr",
     "output_type": "stream",
     "text": [
      "[Stage 47:=============================>                            (4 + 4) / 8]\r"
     ]
    },
    {
     "name": "stdout",
     "output_type": "stream",
     "text": [
      "+----+----------+\n",
      "|hour|TotalHours|\n",
      "+----+----------+\n",
      "|  19|     12377|\n",
      "|  12|     12082|\n",
      "|  11|     11882|\n",
      "|  20|     11763|\n",
      "|  18|     11761|\n",
      "|  13|     11682|\n",
      "|  14|     10522|\n",
      "|  21|     10499|\n",
      "|  10|     10492|\n",
      "|  17|     10476|\n",
      "+----+----------+\n",
      "only showing top 10 rows\n",
      "\n"
     ]
    },
    {
     "name": "stderr",
     "output_type": "stream",
     "text": [
      "                                                                                \r"
     ]
    }
   ],
   "source": [
    "time_df.show(10)"
   ]
  },
  {
   "cell_type": "code",
   "execution_count": 48,
   "id": "3a6c1591-b584-4a04-a819-42b37d32be16",
   "metadata": {
    "tags": []
   },
   "outputs": [
    {
     "data": {
      "image/png": "[encoded data removed]",
      "text/plain": [
       "<Figure size 1000x600 with 1 Axes>"
      ]
     },
     "metadata": {},
     "output_type": "display_data"
    }
   ],
   "source": [
    "time_pdf = time_df.toPandas()\n",
    "sns.set_style('darkgrid')\n",
    "plt.figure(figsize=(10,6))\n",
    "sns.lineplot(x=time_pdf.hour, y= time_pdf.TotalHours)\n",
    "plt.title(\"Total Products Per City\")\n",
    "plt.show()"
   ]
  },
  {
   "cell_type": "markdown",
   "id": "de2ef56a-656d-40a6-aaf2-c8eab2d59e64",
   "metadata": {
    "tags": []
   },
   "source": [
    "## So the best times to display ads based on when most oders where made would be 12pm in the day and 7pm at night"
   ]
  },
  {
   "cell_type": "markdown",
   "id": "63439333-8859-4c15-a6e9-1a97bbeb1000",
   "metadata": {},
   "source": [
    "## Question 4\n",
    "\n",
    "- What products are often sold together in the state “NY”?"
   ]
  },
  {
   "cell_type": "code",
   "execution_count": 50,
   "id": "5f099af3-e2e4-4de2-a65e-97f81aa0bd08",
   "metadata": {
    "tags": []
   },
   "outputs": [
    {
     "name": "stdout",
     "output_type": "stream",
     "text": [
      "+-------+--------------------------+--------+------+-------------------+-----------------------------------------+--------------+-----+-----+\n",
      "|OrderID|Product                   |Quantity|Price |OrderDate          |StoreAddress                             |City          |State|Month|\n",
      "+-------+--------------------------+--------+------+-------------------+-----------------------------------------+--------------+-----+-----+\n",
      "|295665 |Macbook Pro Laptop        |1       |1700.0|2019-12-30 00:01:00|136 Church St, New York City, NY 10001   | New York City|NY   |12   |\n",
      "|295666 |LG Washing Machine        |1       |600.0 |2019-12-29 07:03:00|562 2nd St, New York City, NY 10001      | New York City|NY   |12   |\n",
      "|295667 |USB-C Charging Cable      |1       |11.95 |2019-12-12 18:21:00|277 Main St, New York City, NY 10001     | New York City|NY   |12   |\n",
      "|295668 |27in FHD Monitor          |1       |149.99|2019-12-22 15:13:00|410 6th St, San Francisco, CA 94016      | San Francisco|CA   |12   |\n",
      "|295669 |USB-C Charging Cable      |1       |11.95 |2019-12-18 12:38:00|43 Hill St, Atlanta, GA 30301            | Atlanta      |GA   |12   |\n",
      "|295670 |AA Batteries (4-pack)     |1       |3.84  |2019-12-31 22:58:00|200 Jefferson St, New York City, NY 10001| New York City|NY   |12   |\n",
      "|295671 |USB-C Charging Cable      |1       |11.95 |2019-12-16 15:10:00|928 12th St, Portland, OR 97035          | Portland     |OR   |12   |\n",
      "|295672 |USB-C Charging Cable      |2       |11.95 |2019-12-13 09:29:00|813 Hickory St, Dallas, TX 75001         | Dallas       |TX   |12   |\n",
      "|295673 |Bose SoundSport Headphones|1       |99.99 |2019-12-15 23:26:00|718 Wilson St, Dallas, TX 75001          | Dallas       |TX   |12   |\n",
      "|295674 |AAA Batteries (4-pack)    |4       |2.99  |2019-12-28 11:51:00|77 7th St, Dallas, TX 75001              | Dallas       |TX   |12   |\n",
      "+-------+--------------------------+--------+------+-------------------+-----------------------------------------+--------------+-----+-----+\n",
      "only showing top 10 rows\n",
      "\n"
     ]
    }
   ],
   "source": [
    "sales_2019_df.show(10,truncate=False)"
   ]
  },
  {
   "cell_type": "code",
   "execution_count": 51,
   "id": "6972fb16-c68c-4931-9fc1-86157765f135",
   "metadata": {
    "tags": []
   },
   "outputs": [
    {
     "name": "stdout",
     "output_type": "stream",
     "text": [
      "+---------------------+\n",
      "|count(DISTINCT State)|\n",
      "+---------------------+\n",
      "|                    8|\n",
      "+---------------------+\n",
      "\n"
     ]
    }
   ],
   "source": [
    "sales_2019_df.select(count_distinct(col(\"State\"))).show()"
   ]
  },
  {
   "cell_type": "code",
   "execution_count": 55,
   "id": "aa00bf61-61f0-44dc-8489-a01d4becbb4d",
   "metadata": {
    "tags": []
   },
   "outputs": [
    {
     "name": "stdout",
     "output_type": "stream",
     "text": [
      "+-------+--------------------+--------+------+-------------------+--------------------+--------------+-----+-----+\n",
      "|OrderID|             Product|Quantity| Price|          OrderDate|        StoreAddress|          City|State|Month|\n",
      "+-------+--------------------+--------+------+-------------------+--------------------+--------------+-----+-----+\n",
      "| 295665|  Macbook Pro Laptop|       1|1700.0|2019-12-30 00:01:00|136 Church St, Ne...| New York City|   NY|   12|\n",
      "| 295666|  LG Washing Machine|       1| 600.0|2019-12-29 07:03:00|562 2nd St, New Y...| New York City|   NY|   12|\n",
      "| 295667|USB-C Charging Cable|       1| 11.95|2019-12-12 18:21:00|277 Main St, New ...| New York City|   NY|   12|\n",
      "| 295670|AA Batteries (4-p...|       1|  3.84|2019-12-31 22:58:00|200 Jefferson St,...| New York City|   NY|   12|\n",
      "| 295698|     Vareebadd Phone|       1| 400.0|2019-12-13 14:32:00|175 1st St, New Y...| New York City|   NY|   12|\n",
      "| 295698|USB-C Charging Cable|       2| 11.95|2019-12-13 14:32:00|175 1st St, New Y...| New York City|   NY|   12|\n",
      "| 295700|Bose SoundSport H...|       1| 99.99|2019-12-25 19:02:00|363 Hickory St, N...| New York City|   NY|   12|\n",
      "| 295704|    Wired Headphones|       1| 11.99|2019-12-12 00:20:00|457 8th St, New Y...| New York City|   NY|   12|\n",
      "| 295705|    Wired Headphones|       1| 11.99|2019-12-25 10:41:00|133 Jackson St, N...| New York City|   NY|   12|\n",
      "| 295712|  Macbook Pro Laptop|       1|1700.0|2019-12-10 20:02:00|331 Madison St, N...| New York City|   NY|   12|\n",
      "+-------+--------------------+--------+------+-------------------+--------------------+--------------+-----+-----+\n",
      "only showing top 10 rows\n",
      "\n"
     ]
    }
   ],
   "source": [
    "sales_2019_df.where(col(\"State\")==\"NY\").show(10)"
   ]
  },
  {
   "cell_type": "code",
   "execution_count": 56,
   "id": "5a74614d-2a90-4403-ae9a-7734d20a1196",
   "metadata": {
    "tags": []
   },
   "outputs": [
    {
     "name": "stderr",
     "output_type": "stream",
     "text": [
      "[Stage 83:=============================>                            (4 + 4) / 8]\r"
     ]
    },
    {
     "name": "stdout",
     "output_type": "stream",
     "text": [
      "+-------+----------------------------+\n",
      "|OrderID|Aggregated_Products         |\n",
      "+-------+----------------------------+\n",
      "|141264 |[Apple Airpods Headphones]  |\n",
      "|141268 |[AA Batteries (4-pack)]     |\n",
      "|141272 |[AAA Batteries (4-pack)]    |\n",
      "|141278 |[Lightning Charging Cable]  |\n",
      "|141282 |[Vareebadd Phone]           |\n",
      "|141301 |[Apple Airpods Headphones]  |\n",
      "|141314 |[Macbook Pro Laptop]        |\n",
      "|141317 |[27in FHD Monitor]          |\n",
      "|141323 |[USB-C Charging Cable]      |\n",
      "|141343 |[Bose SoundSport Headphones]|\n",
      "+-------+----------------------------+\n",
      "only showing top 10 rows\n",
      "\n"
     ]
    },
    {
     "name": "stderr",
     "output_type": "stream",
     "text": [
      "                                                                                \r"
     ]
    }
   ],
   "source": [
    "#narrow down to NY\n",
    "\n",
    "Aggregated_products_df = (sales_2019_df.where(col(\"State\")==\"NY\")\n",
    "                                       .groupBy(\"OrderID\")\n",
    "                                       .agg(collect_list(\"Product\").alias(\"Aggregated_Products\")))\n",
    "Aggregated_products_df.show(10,False)"
   ]
  },
  {
   "cell_type": "code",
   "execution_count": 57,
   "id": "d92eb8fd-f265-4d92-950e-db2585bf6829",
   "metadata": {
    "tags": []
   },
   "outputs": [
    {
     "name": "stderr",
     "output_type": "stream",
     "text": [
      "                                                                                \r"
     ]
    },
    {
     "name": "stdout",
     "output_type": "stream",
     "text": [
      "+------------------------------------------------------------+-----+\n",
      "|Aggregated_Products                                         |count|\n",
      "+------------------------------------------------------------+-----+\n",
      "|[iPhone, Lightning Charging Cable]                          |126  |\n",
      "|[Google Phone, USB-C Charging Cable]                        |124  |\n",
      "|[Google Phone, Wired Headphones]                            |52   |\n",
      "|[Vareebadd Phone, USB-C Charging Cable]                     |49   |\n",
      "|[iPhone, Wired Headphones]                                  |46   |\n",
      "|[iPhone, Apple Airpods Headphones]                          |43   |\n",
      "|[Google Phone, Bose SoundSport Headphones]                  |23   |\n",
      "|[Vareebadd Phone, Wired Headphones]                         |17   |\n",
      "|[Apple Airpods Headphones, Wired Headphones]                |12   |\n",
      "|[Google Phone, USB-C Charging Cable, Wired Headphones]      |11   |\n",
      "|[AA Batteries (4-pack), Apple Airpods Headphones]           |10   |\n",
      "|[Lightning Charging Cable, AAA Batteries (4-pack)]          |9    |\n",
      "|[AA Batteries (4-pack), AAA Batteries (4-pack)]             |9    |\n",
      "|[AA Batteries (4-pack), Lightning Charging Cable]           |8    |\n",
      "|[iPhone, Lightning Charging Cable, Apple Airpods Headphones]|8    |\n",
      "|[Lightning Charging Cable, AA Batteries (4-pack)]           |8    |\n",
      "|[Wired Headphones, USB-C Charging Cable]                    |8    |\n",
      "|[Lightning Charging Cable, USB-C Charging Cable]            |8    |\n",
      "|[AAA Batteries (4-pack), Lightning Charging Cable]          |7    |\n",
      "|[Bose SoundSport Headphones, AAA Batteries (4-pack)]        |7    |\n",
      "+------------------------------------------------------------+-----+\n",
      "only showing top 20 rows\n",
      "\n"
     ]
    }
   ],
   "source": [
    "(Aggregated_products_df.groupBy(\"Aggregated_Products\")\n",
    "                      .count()\n",
    "                      .where(size(col(\"Aggregated_Products\")) > 1)\n",
    "                      .orderBy(\"count\", ascending=False)).show(truncate=False)"
   ]
  },
  {
   "cell_type": "markdown",
   "id": "d658660f-44b8-40de-88b7-b60c42ae08f0",
   "metadata": {},
   "source": [
    "### We can now see that [iPhone, Lightning Charging Cable] and [Google Phone, USB-C Charging Cable] are the most common items to be bought together"
   ]
  }
 ],
 "metadata": {
  "kernelspec": {
   "display_name": "Python 3 (ipykernel)",
   "language": "python",
   "name": "python3"
  },
  "language_info": {
   "codemirror_mode": {
    "name": "ipython",
    "version": 3
   },
   "file_extension": ".py",
   "mimetype": "text/x-python",
   "name": "python",
   "nbconvert_exporter": "python",
   "pygments_lexer": "ipython3",
   "version": "3.11.5"
  }
 },
 "nbformat": 4,
 "nbformat_minor": 5
}
